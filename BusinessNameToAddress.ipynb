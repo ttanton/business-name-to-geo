{
 "cells": [
  {
   "cell_type": "code",
   "execution_count": 3,
   "metadata": {
    "collapsed": true,
    "scrolled": true
   },
   "outputs": [],
   "source": [
    "# The purpose of this script is to take a list of business\n",
    "# names and lookup their Geolocation using the Google \n",
    "# places API.\n",
    "\n",
    "import googlemaps\n",
    "import csv\n",
    "\n",
    "# Line below can be commented to prevent accidental programmatical query incurring unexpected costs\n",
    "gmaps = googlemaps.Client(key='PLACE-API-KEY-GOES-HERE')\n",
    "\n",
    "placeList = []\n",
    "\n",
    "# Read list of business names for lookup and store in placeList array\n",
    "with open(\"Transformation-Gross.csv\", \"rt\") as csvfile:\n",
    "    reader = csv.reader(csvfile, delimiter=',')\n",
    "    for row in reader:\n",
    "        placeList.append(row)"
   ]
  },
  {
   "cell_type": "code",
   "execution_count": 6,
   "metadata": {
    "collapsed": true
   },
   "outputs": [],
   "source": [
    "results = []\n",
    "\n",
    "# Fetch google places information for each business name and store in results array\n",
    "for i in placeList:\n",
    "    place = gmaps.places(i[0])\n",
    "    results.append(place)"
   ]
  },
  {
   "cell_type": "code",
   "execution_count": 9,
   "metadata": {},
   "outputs": [
    {
     "name": "stdout",
     "output_type": "stream",
     "text": [
      "399\n"
     ]
    }
   ],
   "source": [
    "keep = []\n",
    "\n",
    "# Filter out errored returns and condense returned information to what we are interested in, and store in keep array\n",
    "for i in range(0,len(results)):\n",
    "    if results[i][\"status\"] == \"OK\":\n",
    "        placeList[i].append(results[i][\"results\"][0]['name'])\n",
    "        placeList[i].append(results[i][\"results\"][0]['formatted_address'])\n",
    "        placeList[i].append(results[i]['results'][0]['geometry']['location']['lat'])\n",
    "        placeList[i].append(results[i]['results'][0]['geometry']['location']['lng'])\n",
    "        keep.append(placeList[i])"
   ]
  },
  {
   "cell_type": "code",
   "execution_count": 10,
   "metadata": {
    "collapsed": true
   },
   "outputs": [],
   "source": [
    "# Write cleaned data to local CSV file \n",
    "with open(\"PlacesGeoOutputTransformation.csv\", \"w\", newline=\"\", encoding=\"utf-8\") as csvfile:\n",
    "    addwriter = csv.writer(csvfile, delimiter=\",\")\n",
    "    for i in keep:\n",
    "        addwriter.writerow(i)"
   ]
  }
 ],
 "metadata": {
  "kernelspec": {
   "display_name": "Python 3",
   "language": "python",
   "name": "python3"
  },
  "language_info": {
   "codemirror_mode": {
    "name": "ipython",
    "version": 3
   },
   "file_extension": ".py",
   "mimetype": "text/x-python",
   "name": "python",
   "nbconvert_exporter": "python",
   "pygments_lexer": "ipython3",
   "version": "3.6.1"
  }
 },
 "nbformat": 4,
 "nbformat_minor": 2
}
